{
 "cells": [
  {
   "cell_type": "code",
   "execution_count": 1,
   "metadata": {},
   "outputs": [],
   "source": [
    "import pandas as pd\n",
    "import numpy as np"
   ]
  },
  {
   "cell_type": "code",
   "execution_count": 2,
   "metadata": {},
   "outputs": [],
   "source": [
    "import base64\n",
    "\n",
    "def image_to_base64(image_path):\n",
    "    with open(image_path, 'rb') as image_file:\n",
    "        # Read the image file as binary data\n",
    "        image_data = image_file.read()\n",
    "        # Convert the binary data to base64 string\n",
    "        base64_string = base64.b64encode(image_data).decode('utf-8')\n",
    "    return base64_string"
   ]
  },
  {
   "cell_type": "code",
   "execution_count": 3,
   "metadata": {},
   "outputs": [
    {
     "name": "stdout",
     "output_type": "stream",
     "text": [
      "Index(['propertyName', 'propertyImage', 'price', 'location', 'aboutProperty',\n",
      "       'noOfBedrooms', 'noOfBathrooms', 'area', 'unitFeatures', 'facilities'],\n",
      "      dtype='object')\n"
     ]
    }
   ],
   "source": [
    "df = pd.read_csv('../100Data/Properties.csv')\n",
    "print(df.columns)"
   ]
  },
  {
   "cell_type": "code",
   "execution_count": 4,
   "metadata": {},
   "outputs": [],
   "source": [
    "imagePaths = [\"../100Data/property1.jpg\",\"../100Data/property2.jpg\",\"../100Data/property3.jpg\",\n",
    "              \"../100Data/property4.jpg\",\"../100Data/property5.jpg\",\"../100Data/property6.jpg\",\n",
    "              \"../100Data/property7.jpg\",\"../100Data/property8.jpg\",\"../100Data/property9.jpg\",\n",
    "              \"../100Data/property10.jpg\",\"../100Data/property11.jpg\",\"../100Data/property12.jpg\",\n",
    "              \"../100Data/property13.jpg\",\"../100Data/property14.jpg\",\"../100Data/property15.jpg\"]"
   ]
  },
  {
   "cell_type": "code",
   "execution_count": 5,
   "metadata": {},
   "outputs": [],
   "source": [
    "df[\"propertyImage\"] = np.random.choice(imagePaths, size=len(df))"
   ]
  },
  {
   "cell_type": "code",
   "execution_count": 6,
   "metadata": {},
   "outputs": [
    {
     "data": {
      "text/plain": [
       "0      ../100Data/property9.jpg\n",
       "1     ../100Data/property13.jpg\n",
       "2      ../100Data/property2.jpg\n",
       "3     ../100Data/property15.jpg\n",
       "4      ../100Data/property8.jpg\n",
       "                ...            \n",
       "95     ../100Data/property2.jpg\n",
       "96    ../100Data/property15.jpg\n",
       "97     ../100Data/property2.jpg\n",
       "98    ../100Data/property10.jpg\n",
       "99    ../100Data/property12.jpg\n",
       "Name: propertyImage, Length: 100, dtype: object"
      ]
     },
     "execution_count": 6,
     "metadata": {},
     "output_type": "execute_result"
    }
   ],
   "source": [
    "df['propertyImage']"
   ]
  },
  {
   "cell_type": "code",
   "execution_count": 7,
   "metadata": {},
   "outputs": [],
   "source": [
    "df['propertyImage'] = df['propertyImage'].apply(image_to_base64)"
   ]
  },
  {
   "cell_type": "code",
   "execution_count": 8,
   "metadata": {},
   "outputs": [
    {
     "data": {
      "text/plain": [
       "0     /9j/4AAQSkZJRgABAQEAZABkAAD/2wBDAAYEBQYFBAYGBQ...\n",
       "1     /9j/4QAWRXhpZgAATU0AKgAAAAgAAAAAAAD/2wBDAAYEBQ...\n",
       "2     /9j/4QAYRXhpZgAASUkqAAgAAAAAAAAAAAAAAP/sABFEdW...\n",
       "3     /9j/4QAWRXhpZgAATU0AKgAAAAgAAAAAAAD/2wBDAAYEBQ...\n",
       "4     /9j/4AAQSkZJRgABAQAAAQABAAD/2wCEAAYGBgYGBgYHBw...\n",
       "                            ...                        \n",
       "95    /9j/4QAYRXhpZgAASUkqAAgAAAAAAAAAAAAAAP/sABFEdW...\n",
       "96    /9j/4QAWRXhpZgAATU0AKgAAAAgAAAAAAAD/2wBDAAYEBQ...\n",
       "97    /9j/4QAYRXhpZgAASUkqAAgAAAAAAAAAAAAAAP/sABFEdW...\n",
       "98    /9j/4AAQSkZJRgABAQAAAQABAAD/2wCEAAMCAgoKCgoKCg...\n",
       "99    /9j/4AAQSkZJRgABAgEBLAEsAAD/4RyLRXhpZgAATU0AKg...\n",
       "Name: propertyImage, Length: 100, dtype: object"
      ]
     },
     "execution_count": 8,
     "metadata": {},
     "output_type": "execute_result"
    }
   ],
   "source": [
    "df['propertyImage']"
   ]
  },
  {
   "cell_type": "code",
   "execution_count": 9,
   "metadata": {},
   "outputs": [
    {
     "data": {
      "text/html": [
       "<div>\n",
       "<style scoped>\n",
       "    .dataframe tbody tr th:only-of-type {\n",
       "        vertical-align: middle;\n",
       "    }\n",
       "\n",
       "    .dataframe tbody tr th {\n",
       "        vertical-align: top;\n",
       "    }\n",
       "\n",
       "    .dataframe thead th {\n",
       "        text-align: right;\n",
       "    }\n",
       "</style>\n",
       "<table border=\"1\" class=\"dataframe\">\n",
       "  <thead>\n",
       "    <tr style=\"text-align: right;\">\n",
       "      <th></th>\n",
       "      <th>propertyName</th>\n",
       "      <th>propertyImage</th>\n",
       "      <th>price</th>\n",
       "      <th>location</th>\n",
       "      <th>aboutProperty</th>\n",
       "      <th>noOfBedrooms</th>\n",
       "      <th>noOfBathrooms</th>\n",
       "      <th>area</th>\n",
       "      <th>unitFeatures</th>\n",
       "      <th>facilities</th>\n",
       "    </tr>\n",
       "  </thead>\n",
       "  <tbody>\n",
       "    <tr>\n",
       "      <th>0</th>\n",
       "      <td>Oahu Gardenia</td>\n",
       "      <td>/9j/4AAQSkZJRgABAQEAZABkAAD/2wBDAAYEBQYFBAYGBQ...</td>\n",
       "      <td>8379</td>\n",
       "      <td>45530 Transport Way</td>\n",
       "      <td>Step into luxury living with this sprawling es...</td>\n",
       "      <td>6</td>\n",
       "      <td>4</td>\n",
       "      <td>1135</td>\n",
       "      <td>Air-Conditioning, Modern kitchen, Maidsroom, P...</td>\n",
       "      <td>Walking/jogging trails, Gymnasium room, Pet-fr...</td>\n",
       "    </tr>\n",
       "    <tr>\n",
       "      <th>1</th>\n",
       "      <td>Apetalous Sandwort</td>\n",
       "      <td>/9j/4QAWRXhpZgAATU0AKgAAAAgAAAAAAAD/2wBDAAYEBQ...</td>\n",
       "      <td>11220</td>\n",
       "      <td>62385 Maple Trail</td>\n",
       "      <td>Welcome to your own private oasis in the heart...</td>\n",
       "      <td>4</td>\n",
       "      <td>3</td>\n",
       "      <td>5666</td>\n",
       "      <td>Hardwood or laminate flooring, Bombshelter, Ai...</td>\n",
       "      <td>Playground, Business center, Walking/jogging t...</td>\n",
       "    </tr>\n",
       "    <tr>\n",
       "      <th>2</th>\n",
       "      <td>Baldwin's Eryngo</td>\n",
       "      <td>/9j/4QAYRXhpZgAASUkqAAgAAAAAAAAAAAAAAP/sABFEdW...</td>\n",
       "      <td>5513</td>\n",
       "      <td>5 Saint Paul Hill</td>\n",
       "      <td>Escape to the tranquility of this charming coa...</td>\n",
       "      <td>4</td>\n",
       "      <td>2</td>\n",
       "      <td>5692</td>\n",
       "      <td>Dishwasher, Spacious bedrooms, Air-Conditionin...</td>\n",
       "      <td>Clubhouse, Business center, Laundry facilities...</td>\n",
       "    </tr>\n",
       "    <tr>\n",
       "      <th>3</th>\n",
       "      <td>Hawai'i Stingingnettle</td>\n",
       "      <td>/9j/4QAWRXhpZgAATU0AKgAAAAgAAAAAAAD/2wBDAAYEBQ...</td>\n",
       "      <td>14174</td>\n",
       "      <td>775 Monument Park</td>\n",
       "      <td>Embrace the epitome of modern elegance with th...</td>\n",
       "      <td>5</td>\n",
       "      <td>4</td>\n",
       "      <td>1705</td>\n",
       "      <td>Modern kitchen, Walk-in closets, Water Heater,...</td>\n",
       "      <td>Business center, Tennis courts, On-site mainte...</td>\n",
       "    </tr>\n",
       "    <tr>\n",
       "      <th>4</th>\n",
       "      <td>Lilac Chastetree</td>\n",
       "      <td>/9j/4AAQSkZJRgABAQAAAQABAAD/2wCEAAYGBgYGBgYHBw...</td>\n",
       "      <td>4949</td>\n",
       "      <td>3911 Roth Lane</td>\n",
       "      <td>Experience the height of mountain luxury with ...</td>\n",
       "      <td>5</td>\n",
       "      <td>4</td>\n",
       "      <td>1596</td>\n",
       "      <td>Private Pool, Large windows for natural light,...</td>\n",
       "      <td>Walking/jogging trails, Business center, Pet-f...</td>\n",
       "    </tr>\n",
       "    <tr>\n",
       "      <th>...</th>\n",
       "      <td>...</td>\n",
       "      <td>...</td>\n",
       "      <td>...</td>\n",
       "      <td>...</td>\n",
       "      <td>...</td>\n",
       "      <td>...</td>\n",
       "      <td>...</td>\n",
       "      <td>...</td>\n",
       "      <td>...</td>\n",
       "      <td>...</td>\n",
       "    </tr>\n",
       "    <tr>\n",
       "      <th>95</th>\n",
       "      <td>Curlyheads</td>\n",
       "      <td>/9j/4QAYRXhpZgAASUkqAAgAAAAAAAAAAAAAAP/sABFEdW...</td>\n",
       "      <td>3930</td>\n",
       "      <td>37 Eastwood Park</td>\n",
       "      <td>Step into luxury living with this sprawling es...</td>\n",
       "      <td>3</td>\n",
       "      <td>2</td>\n",
       "      <td>5912</td>\n",
       "      <td>Private Pool, Dishwasher, Maidsroom, City View...</td>\n",
       "      <td>Parking facilities (covered or underground), P...</td>\n",
       "    </tr>\n",
       "    <tr>\n",
       "      <th>96</th>\n",
       "      <td>Serpentine Ragwort</td>\n",
       "      <td>/9j/4QAWRXhpZgAATU0AKgAAAAgAAAAAAAD/2wBDAAYEBQ...</td>\n",
       "      <td>9477</td>\n",
       "      <td>3 Charing Cross Circle</td>\n",
       "      <td>Welcome to your own private oasis in the heart...</td>\n",
       "      <td>2</td>\n",
       "      <td>2</td>\n",
       "      <td>4134</td>\n",
       "      <td>Balcony, Private Pool, Modern kitchen, Air-Con...</td>\n",
       "      <td>Fitness corner, Storage units, Concierge servi...</td>\n",
       "    </tr>\n",
       "    <tr>\n",
       "      <th>97</th>\n",
       "      <td>European Feather Grass</td>\n",
       "      <td>/9j/4QAYRXhpZgAASUkqAAgAAAAAAAAAAAAAAP/sABFEdW...</td>\n",
       "      <td>6976</td>\n",
       "      <td>19 Shopko Crossing</td>\n",
       "      <td>Escape to the tranquility of this charming coa...</td>\n",
       "      <td>3</td>\n",
       "      <td>3</td>\n",
       "      <td>2315</td>\n",
       "      <td>Air-Conditioning, Bombshelter, Spacious bedroo...</td>\n",
       "      <td>Jacuzzi, Tennis courts, Parking facilities (co...</td>\n",
       "    </tr>\n",
       "    <tr>\n",
       "      <th>98</th>\n",
       "      <td>Goosefoot Violet</td>\n",
       "      <td>/9j/4AAQSkZJRgABAQAAAQABAAD/2wCEAAMCAgoKCgoKCg...</td>\n",
       "      <td>6903</td>\n",
       "      <td>46948 Cordelia Center</td>\n",
       "      <td>Embrace the epitome of modern elegance with th...</td>\n",
       "      <td>1</td>\n",
       "      <td>1</td>\n",
       "      <td>915</td>\n",
       "      <td>Designer fixtures and finishes, High ceilings,...</td>\n",
       "      <td>Concierge services, Barbeque Pits, Bicycle sto...</td>\n",
       "    </tr>\n",
       "    <tr>\n",
       "      <th>99</th>\n",
       "      <td>Attalea Palm</td>\n",
       "      <td>/9j/4AAQSkZJRgABAgEBLAEsAAD/4RyLRXhpZgAATU0AKg...</td>\n",
       "      <td>3841</td>\n",
       "      <td>83 Ronald Regan Circle</td>\n",
       "      <td>Experience the height of mountain luxury with ...</td>\n",
       "      <td>3</td>\n",
       "      <td>2</td>\n",
       "      <td>701</td>\n",
       "      <td>Hardwood or laminate flooring, Open-concept li...</td>\n",
       "      <td>Clubhouse, Walking/jogging trails, Laundry fac...</td>\n",
       "    </tr>\n",
       "  </tbody>\n",
       "</table>\n",
       "<p>100 rows × 10 columns</p>\n",
       "</div>"
      ],
      "text/plain": [
       "              propertyName                                      propertyImage  \\\n",
       "0            Oahu Gardenia  /9j/4AAQSkZJRgABAQEAZABkAAD/2wBDAAYEBQYFBAYGBQ...   \n",
       "1       Apetalous Sandwort  /9j/4QAWRXhpZgAATU0AKgAAAAgAAAAAAAD/2wBDAAYEBQ...   \n",
       "2         Baldwin's Eryngo  /9j/4QAYRXhpZgAASUkqAAgAAAAAAAAAAAAAAP/sABFEdW...   \n",
       "3   Hawai'i Stingingnettle  /9j/4QAWRXhpZgAATU0AKgAAAAgAAAAAAAD/2wBDAAYEBQ...   \n",
       "4         Lilac Chastetree  /9j/4AAQSkZJRgABAQAAAQABAAD/2wCEAAYGBgYGBgYHBw...   \n",
       "..                     ...                                                ...   \n",
       "95              Curlyheads  /9j/4QAYRXhpZgAASUkqAAgAAAAAAAAAAAAAAP/sABFEdW...   \n",
       "96      Serpentine Ragwort  /9j/4QAWRXhpZgAATU0AKgAAAAgAAAAAAAD/2wBDAAYEBQ...   \n",
       "97  European Feather Grass  /9j/4QAYRXhpZgAASUkqAAgAAAAAAAAAAAAAAP/sABFEdW...   \n",
       "98        Goosefoot Violet  /9j/4AAQSkZJRgABAQAAAQABAAD/2wCEAAMCAgoKCgoKCg...   \n",
       "99            Attalea Palm  /9j/4AAQSkZJRgABAgEBLAEsAAD/4RyLRXhpZgAATU0AKg...   \n",
       "\n",
       "    price                location  \\\n",
       "0    8379     45530 Transport Way   \n",
       "1   11220       62385 Maple Trail   \n",
       "2    5513       5 Saint Paul Hill   \n",
       "3   14174       775 Monument Park   \n",
       "4    4949          3911 Roth Lane   \n",
       "..    ...                     ...   \n",
       "95   3930        37 Eastwood Park   \n",
       "96   9477  3 Charing Cross Circle   \n",
       "97   6976      19 Shopko Crossing   \n",
       "98   6903   46948 Cordelia Center   \n",
       "99   3841  83 Ronald Regan Circle   \n",
       "\n",
       "                                        aboutProperty  noOfBedrooms  \\\n",
       "0   Step into luxury living with this sprawling es...             6   \n",
       "1   Welcome to your own private oasis in the heart...             4   \n",
       "2   Escape to the tranquility of this charming coa...             4   \n",
       "3   Embrace the epitome of modern elegance with th...             5   \n",
       "4   Experience the height of mountain luxury with ...             5   \n",
       "..                                                ...           ...   \n",
       "95  Step into luxury living with this sprawling es...             3   \n",
       "96  Welcome to your own private oasis in the heart...             2   \n",
       "97  Escape to the tranquility of this charming coa...             3   \n",
       "98  Embrace the epitome of modern elegance with th...             1   \n",
       "99  Experience the height of mountain luxury with ...             3   \n",
       "\n",
       "    noOfBathrooms  area                                       unitFeatures  \\\n",
       "0               4  1135  Air-Conditioning, Modern kitchen, Maidsroom, P...   \n",
       "1               3  5666  Hardwood or laminate flooring, Bombshelter, Ai...   \n",
       "2               2  5692  Dishwasher, Spacious bedrooms, Air-Conditionin...   \n",
       "3               4  1705  Modern kitchen, Walk-in closets, Water Heater,...   \n",
       "4               4  1596  Private Pool, Large windows for natural light,...   \n",
       "..            ...   ...                                                ...   \n",
       "95              2  5912  Private Pool, Dishwasher, Maidsroom, City View...   \n",
       "96              2  4134  Balcony, Private Pool, Modern kitchen, Air-Con...   \n",
       "97              3  2315  Air-Conditioning, Bombshelter, Spacious bedroo...   \n",
       "98              1   915  Designer fixtures and finishes, High ceilings,...   \n",
       "99              2   701  Hardwood or laminate flooring, Open-concept li...   \n",
       "\n",
       "                                           facilities  \n",
       "0   Walking/jogging trails, Gymnasium room, Pet-fr...  \n",
       "1   Playground, Business center, Walking/jogging t...  \n",
       "2   Clubhouse, Business center, Laundry facilities...  \n",
       "3   Business center, Tennis courts, On-site mainte...  \n",
       "4   Walking/jogging trails, Business center, Pet-f...  \n",
       "..                                                ...  \n",
       "95  Parking facilities (covered or underground), P...  \n",
       "96  Fitness corner, Storage units, Concierge servi...  \n",
       "97  Jacuzzi, Tennis courts, Parking facilities (co...  \n",
       "98  Concierge services, Barbeque Pits, Bicycle sto...  \n",
       "99  Clubhouse, Walking/jogging trails, Laundry fac...  \n",
       "\n",
       "[100 rows x 10 columns]"
      ]
     },
     "execution_count": 9,
     "metadata": {},
     "output_type": "execute_result"
    }
   ],
   "source": [
    "df"
   ]
  },
  {
   "cell_type": "code",
   "execution_count": 10,
   "metadata": {},
   "outputs": [
    {
     "name": "stdout",
     "output_type": "stream",
     "text": [
      "DataFrame exported to Properties.csv\n"
     ]
    }
   ],
   "source": [
    "# Specify the file path\n",
    "csv_file = \"Properties.csv\"\n",
    "\n",
    "# Export DataFrame to CSV\n",
    "df.to_csv(csv_file, index=False)\n",
    "\n",
    "print(f\"DataFrame exported to {csv_file}\")"
   ]
  }
 ],
 "metadata": {
  "kernelspec": {
   "display_name": "minifyp",
   "language": "python",
   "name": "python3"
  },
  "language_info": {
   "codemirror_mode": {
    "name": "ipython",
    "version": 3
   },
   "file_extension": ".py",
   "mimetype": "text/x-python",
   "name": "python",
   "nbconvert_exporter": "python",
   "pygments_lexer": "ipython3",
   "version": "3.12.3"
  }
 },
 "nbformat": 4,
 "nbformat_minor": 2
}
