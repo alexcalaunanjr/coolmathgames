{
 "cells": [
  {
   "cell_type": "code",
   "execution_count": 11,
   "metadata": {},
   "outputs": [],
   "source": [
    "import pandas as pd\n",
    "import numpy as np"
   ]
  },
  {
   "cell_type": "code",
   "execution_count": 12,
   "metadata": {},
   "outputs": [
    {
     "name": "stdout",
     "output_type": "stream",
     "text": [
      "Index(['id', 'ignorerea2', 'rea', 'ignorebuyer', 'rater', 'rating', 'date'], dtype='object')\n"
     ]
    }
   ],
   "source": [
    "df = pd.read_csv('../100Data/Rating.csv')\n",
    "print(df.columns)"
   ]
  },
  {
   "cell_type": "code",
   "execution_count": 13,
   "metadata": {},
   "outputs": [],
   "source": [
    "df.drop(columns=['ignorerea2','ignorebuyer'], inplace=True)"
   ]
  },
  {
   "cell_type": "code",
   "execution_count": 14,
   "metadata": {},
   "outputs": [],
   "source": [
    "def add_4_to_id(input_id):\n",
    "    return input_id + 4\n",
    "\n",
    "df['id'] = df['id'].apply(add_4_to_id)"
   ]
  },
  {
   "cell_type": "code",
   "execution_count": 15,
   "metadata": {},
   "outputs": [],
   "source": [
    "import datetime\n",
    "date_format = \"%m/%d/%Y\"\n",
    "new_format = \"%Y-%m-%d %H:%M:%S.%f\"\n",
    "\n",
    "def convertDateTime(input_id):\n",
    "    date_object = datetime.datetime.strptime(input_id, date_format)\n",
    "    formatted_date = date_object.strftime(new_format)\n",
    "    return formatted_date\n",
    "\n",
    "df['date'] = df['date'].apply(convertDateTime)"
   ]
  },
  {
   "cell_type": "code",
   "execution_count": 16,
   "metadata": {},
   "outputs": [
    {
     "name": "stdout",
     "output_type": "stream",
     "text": [
      "DataFrame exported to Rating.csv\n"
     ]
    }
   ],
   "source": [
    "# Specify the file path\n",
    "csv_file = \"Rating.csv\"\n",
    "\n",
    "# Export DataFrame to CSV\n",
    "df.to_csv(csv_file, index=False)\n",
    "\n",
    "print(f\"DataFrame exported to {csv_file}\")"
   ]
  }
 ],
 "metadata": {
  "kernelspec": {
   "display_name": "minifyp",
   "language": "python",
   "name": "python3"
  },
  "language_info": {
   "codemirror_mode": {
    "name": "ipython",
    "version": 3
   },
   "file_extension": ".py",
   "mimetype": "text/x-python",
   "name": "python",
   "nbconvert_exporter": "python",
   "pygments_lexer": "ipython3",
   "version": "3.12.3"
  }
 },
 "nbformat": 4,
 "nbformat_minor": 2
}
