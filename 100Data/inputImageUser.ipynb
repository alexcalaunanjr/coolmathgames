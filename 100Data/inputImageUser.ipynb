{
 "cells": [
  {
   "cell_type": "code",
   "execution_count": 1,
   "metadata": {},
   "outputs": [],
   "source": [
    "import pandas as pd\n",
    "import numpy as np"
   ]
  },
  {
   "cell_type": "code",
   "execution_count": 2,
   "metadata": {},
   "outputs": [],
   "source": [
    "import base64\n",
    "\n",
    "def image_to_base64(image_path):\n",
    "    with open(image_path, 'rb') as image_file:\n",
    "        # Read the image file as binary data\n",
    "        image_data = image_file.read()\n",
    "        # Convert the binary data to base64 string\n",
    "        base64_string = base64.b64encode(image_data).decode('utf-8')\n",
    "    return base64_string"
   ]
  },
  {
   "cell_type": "code",
   "execution_count": 3,
   "metadata": {},
   "outputs": [
    {
     "name": "stdout",
     "output_type": "stream",
     "text": [
      "Index(['id', 'firstName', 'lastName', 'username', 'password', 'fullName',\n",
      "       'email', 'phoneNo', 'profileImage', 'profile', 'status'],\n",
      "      dtype='object')\n"
     ]
    }
   ],
   "source": [
    "df = pd.read_csv('../100Data/UserAccounts.csv')\n",
    "print(df.columns)"
   ]
  },
  {
   "cell_type": "code",
   "execution_count": 4,
   "metadata": {},
   "outputs": [],
   "source": [
    "imagePaths = [\"../100Data/profile1.jpg\",\"../100Data/profile2.jpg\",\"../100Data/profile3.jpg\",\n",
    "              \"../100Data/profile4.jpg\",\"../100Data/profile5.jpg\",\"../100Data/profile6.jpg\",\n",
    "              \"../100Data/profile7.jpg\",\"../100Data/profile8.jpg\",\"../100Data/profile9.jpg\",\n",
    "              \"../100Data/profile10.jpg\",\"../100Data/profile11.jpg\",\"../100Data/profile12.jpg\"]"
   ]
  },
  {
   "cell_type": "code",
   "execution_count": 5,
   "metadata": {},
   "outputs": [],
   "source": [
    "df[\"profileImage\"] = np.random.choice(imagePaths, size=len(df))"
   ]
  },
  {
   "cell_type": "code",
   "execution_count": 6,
   "metadata": {},
   "outputs": [
    {
     "data": {
      "text/plain": [
       "0      ../100Data/profile5.jpg\n",
       "1      ../100Data/profile7.jpg\n",
       "2      ../100Data/profile6.jpg\n",
       "3      ../100Data/profile9.jpg\n",
       "4      ../100Data/profile8.jpg\n",
       "                ...           \n",
       "95    ../100Data/profile11.jpg\n",
       "96     ../100Data/profile4.jpg\n",
       "97     ../100Data/profile7.jpg\n",
       "98     ../100Data/profile7.jpg\n",
       "99    ../100Data/profile12.jpg\n",
       "Name: profileImage, Length: 100, dtype: object"
      ]
     },
     "execution_count": 6,
     "metadata": {},
     "output_type": "execute_result"
    }
   ],
   "source": [
    "df['profileImage']"
   ]
  },
  {
   "cell_type": "code",
   "execution_count": 7,
   "metadata": {},
   "outputs": [],
   "source": [
    "df['profileImage'] = df['profileImage'].apply(image_to_base64)"
   ]
  },
  {
   "cell_type": "code",
   "execution_count": 8,
   "metadata": {},
   "outputs": [
    {
     "data": {
      "text/plain": [
       "0     /9j/4AAQSkZJRgABAQEASABIAAD/2wBDAAMCAgICAgMCAg...\n",
       "1     /9j/4AAQSkZJRgABAQEASABIAAD/4gKgSUNDX1BST0ZJTE...\n",
       "2     /9j/4AAQSkZJRgABAQEASABIAAD/4gKgSUNDX1BST0ZJTE...\n",
       "3     /9j/4AAQSkZJRgABAQEASABIAAD/4gKgSUNDX1BST0ZJTE...\n",
       "4     /9j/4AAQSkZJRgABAQEASABIAAD/4gKgSUNDX1BST0ZJTE...\n",
       "                            ...                        \n",
       "95    /9j/4AAQSkZJRgABAQEASABIAAD/4gKgSUNDX1BST0ZJTE...\n",
       "96    /9j/4AAQSkZJRgABAQEASABIAAD/4gKgSUNDX1BST0ZJTE...\n",
       "97    /9j/4AAQSkZJRgABAQEASABIAAD/4gKgSUNDX1BST0ZJTE...\n",
       "98    /9j/4AAQSkZJRgABAQEASABIAAD/4gKgSUNDX1BST0ZJTE...\n",
       "99    /9j/4AAQSkZJRgABAQEASABIAAD/2wBDAAIBAQIBAQICAg...\n",
       "Name: profileImage, Length: 100, dtype: object"
      ]
     },
     "execution_count": 8,
     "metadata": {},
     "output_type": "execute_result"
    }
   ],
   "source": [
    "df['profileImage']"
   ]
  },
  {
   "cell_type": "code",
   "execution_count": 9,
   "metadata": {},
   "outputs": [],
   "source": [
    "df.drop(columns=['firstName', 'lastName'], inplace=True)"
   ]
  },
  {
   "cell_type": "code",
   "execution_count": 10,
   "metadata": {},
   "outputs": [],
   "source": [
    "def add_11_to_id(input_id):\n",
    "    return input_id + 11\n",
    "\n",
    "df['id'] = df['id'].apply(add_11_to_id)"
   ]
  },
  {
   "cell_type": "code",
   "execution_count": 11,
   "metadata": {},
   "outputs": [
    {
     "data": {
      "text/html": [
       "<div>\n",
       "<style scoped>\n",
       "    .dataframe tbody tr th:only-of-type {\n",
       "        vertical-align: middle;\n",
       "    }\n",
       "\n",
       "    .dataframe tbody tr th {\n",
       "        vertical-align: top;\n",
       "    }\n",
       "\n",
       "    .dataframe thead th {\n",
       "        text-align: right;\n",
       "    }\n",
       "</style>\n",
       "<table border=\"1\" class=\"dataframe\">\n",
       "  <thead>\n",
       "    <tr style=\"text-align: right;\">\n",
       "      <th></th>\n",
       "      <th>id</th>\n",
       "      <th>username</th>\n",
       "      <th>password</th>\n",
       "      <th>fullName</th>\n",
       "      <th>email</th>\n",
       "      <th>phoneNo</th>\n",
       "      <th>profileImage</th>\n",
       "      <th>profile</th>\n",
       "      <th>status</th>\n",
       "    </tr>\n",
       "  </thead>\n",
       "  <tbody>\n",
       "    <tr>\n",
       "      <th>0</th>\n",
       "      <td>12</td>\n",
       "      <td>dinnie_sillitoe</td>\n",
       "      <td>$2a$04$xNMQYmeAp02En2Ctnbblr.T50lR49yvUmSEmtwN...</td>\n",
       "      <td>Dinnie Sillitoe</td>\n",
       "      <td>dinniesillitoe@gmail.com</td>\n",
       "      <td>5764485868</td>\n",
       "      <td>/9j/4AAQSkZJRgABAQEASABIAAD/2wBDAAMCAgICAgMCAg...</td>\n",
       "      <td>Buyer</td>\n",
       "      <td>active</td>\n",
       "    </tr>\n",
       "    <tr>\n",
       "      <th>1</th>\n",
       "      <td>13</td>\n",
       "      <td>corie_gilhooly</td>\n",
       "      <td>$2a$04$C1ZHIeznYTtblVqi9wKJP./TmMUy7JrCuAdndRF...</td>\n",
       "      <td>Corie Gilhooly</td>\n",
       "      <td>coriegilhooly@gmail.com</td>\n",
       "      <td>5159571562</td>\n",
       "      <td>/9j/4AAQSkZJRgABAQEASABIAAD/4gKgSUNDX1BST0ZJTE...</td>\n",
       "      <td>Real Estate Agent</td>\n",
       "      <td>active</td>\n",
       "    </tr>\n",
       "    <tr>\n",
       "      <th>2</th>\n",
       "      <td>14</td>\n",
       "      <td>eunice_coldbathe</td>\n",
       "      <td>$2a$04$gwkdVBhQaAhZTTySgjPkPO4VI8QGH7hWifq/Km3...</td>\n",
       "      <td>Eunice Coldbathe</td>\n",
       "      <td>eunicecoldbathe@gmail.com</td>\n",
       "      <td>8923953535</td>\n",
       "      <td>/9j/4AAQSkZJRgABAQEASABIAAD/4gKgSUNDX1BST0ZJTE...</td>\n",
       "      <td>System Admin</td>\n",
       "      <td>active</td>\n",
       "    </tr>\n",
       "    <tr>\n",
       "      <th>3</th>\n",
       "      <td>15</td>\n",
       "      <td>shoshanna_collabine</td>\n",
       "      <td>$2a$04$M8sS/KiEsne.OU0F1eq5UO6NK1Lfcvhq24z1N5U...</td>\n",
       "      <td>Shoshanna Collabine</td>\n",
       "      <td>shoshannacollabine@gmail.com</td>\n",
       "      <td>8412788641</td>\n",
       "      <td>/9j/4AAQSkZJRgABAQEASABIAAD/4gKgSUNDX1BST0ZJTE...</td>\n",
       "      <td>Buyer</td>\n",
       "      <td>active</td>\n",
       "    </tr>\n",
       "    <tr>\n",
       "      <th>4</th>\n",
       "      <td>16</td>\n",
       "      <td>seumas_draysey</td>\n",
       "      <td>$2a$04$fBSyrHlf4uqPIGtW1H0tROERG.BQYi7a95tlkDb...</td>\n",
       "      <td>Seumas Draysey</td>\n",
       "      <td>seumasdraysey@gmail.com</td>\n",
       "      <td>5783547756</td>\n",
       "      <td>/9j/4AAQSkZJRgABAQEASABIAAD/4gKgSUNDX1BST0ZJTE...</td>\n",
       "      <td>Seller</td>\n",
       "      <td>active</td>\n",
       "    </tr>\n",
       "    <tr>\n",
       "      <th>...</th>\n",
       "      <td>...</td>\n",
       "      <td>...</td>\n",
       "      <td>...</td>\n",
       "      <td>...</td>\n",
       "      <td>...</td>\n",
       "      <td>...</td>\n",
       "      <td>...</td>\n",
       "      <td>...</td>\n",
       "      <td>...</td>\n",
       "    </tr>\n",
       "    <tr>\n",
       "      <th>95</th>\n",
       "      <td>107</td>\n",
       "      <td>jaye_miskimmon</td>\n",
       "      <td>$2a$04$oHuQIRgL5FYsvp2d4vz46eBCMiz1I7eFp06QtEI...</td>\n",
       "      <td>Jaye Miskimmon</td>\n",
       "      <td>jayemiskimmon@gmail.com</td>\n",
       "      <td>2411732906</td>\n",
       "      <td>/9j/4AAQSkZJRgABAQEASABIAAD/4gKgSUNDX1BST0ZJTE...</td>\n",
       "      <td>Buyer</td>\n",
       "      <td>active</td>\n",
       "    </tr>\n",
       "    <tr>\n",
       "      <th>96</th>\n",
       "      <td>108</td>\n",
       "      <td>horton_newns</td>\n",
       "      <td>$2a$04$qwyNlrU6csEVskb2o1XbJeYxsEFkN1UJZl.9fES...</td>\n",
       "      <td>Horton Newns</td>\n",
       "      <td>hortonnewns@gmail.com</td>\n",
       "      <td>2625339490</td>\n",
       "      <td>/9j/4AAQSkZJRgABAQEASABIAAD/4gKgSUNDX1BST0ZJTE...</td>\n",
       "      <td>Seller</td>\n",
       "      <td>active</td>\n",
       "    </tr>\n",
       "    <tr>\n",
       "      <th>97</th>\n",
       "      <td>109</td>\n",
       "      <td>kelley_langabeer</td>\n",
       "      <td>$2a$04$bKjrDfg7i0dv6c9tse1JqOfZJYxney80wpxDvpL...</td>\n",
       "      <td>Kelley Langabeer</td>\n",
       "      <td>kelleylangabeer@gmail.com</td>\n",
       "      <td>7233697921</td>\n",
       "      <td>/9j/4AAQSkZJRgABAQEASABIAAD/4gKgSUNDX1BST0ZJTE...</td>\n",
       "      <td>Real Estate Agent</td>\n",
       "      <td>active</td>\n",
       "    </tr>\n",
       "    <tr>\n",
       "      <th>98</th>\n",
       "      <td>110</td>\n",
       "      <td>addie_weddell</td>\n",
       "      <td>$2a$04$/xxC9M7ipSfhcKKuC8QV9.EREQzBcknqiNRVDl7...</td>\n",
       "      <td>Addie Weddell</td>\n",
       "      <td>addieweddell@gmail.com</td>\n",
       "      <td>2251101538</td>\n",
       "      <td>/9j/4AAQSkZJRgABAQEASABIAAD/4gKgSUNDX1BST0ZJTE...</td>\n",
       "      <td>Real Estate Agent</td>\n",
       "      <td>suspended</td>\n",
       "    </tr>\n",
       "    <tr>\n",
       "      <th>99</th>\n",
       "      <td>111</td>\n",
       "      <td>culley_curnokk</td>\n",
       "      <td>$2a$04$.2r79PZnLIIZucHpnQ9l1.TNQtXLF32gnljaQjn...</td>\n",
       "      <td>Culley Curnokk</td>\n",
       "      <td>culleycurnokk@gmail.com</td>\n",
       "      <td>6683501230</td>\n",
       "      <td>/9j/4AAQSkZJRgABAQEASABIAAD/2wBDAAIBAQIBAQICAg...</td>\n",
       "      <td>Real Estate Agent</td>\n",
       "      <td>active</td>\n",
       "    </tr>\n",
       "  </tbody>\n",
       "</table>\n",
       "<p>100 rows × 9 columns</p>\n",
       "</div>"
      ],
      "text/plain": [
       "     id             username  \\\n",
       "0    12      dinnie_sillitoe   \n",
       "1    13       corie_gilhooly   \n",
       "2    14     eunice_coldbathe   \n",
       "3    15  shoshanna_collabine   \n",
       "4    16       seumas_draysey   \n",
       "..  ...                  ...   \n",
       "95  107       jaye_miskimmon   \n",
       "96  108         horton_newns   \n",
       "97  109     kelley_langabeer   \n",
       "98  110        addie_weddell   \n",
       "99  111       culley_curnokk   \n",
       "\n",
       "                                             password             fullName  \\\n",
       "0   $2a$04$xNMQYmeAp02En2Ctnbblr.T50lR49yvUmSEmtwN...      Dinnie Sillitoe   \n",
       "1   $2a$04$C1ZHIeznYTtblVqi9wKJP./TmMUy7JrCuAdndRF...       Corie Gilhooly   \n",
       "2   $2a$04$gwkdVBhQaAhZTTySgjPkPO4VI8QGH7hWifq/Km3...     Eunice Coldbathe   \n",
       "3   $2a$04$M8sS/KiEsne.OU0F1eq5UO6NK1Lfcvhq24z1N5U...  Shoshanna Collabine   \n",
       "4   $2a$04$fBSyrHlf4uqPIGtW1H0tROERG.BQYi7a95tlkDb...       Seumas Draysey   \n",
       "..                                                ...                  ...   \n",
       "95  $2a$04$oHuQIRgL5FYsvp2d4vz46eBCMiz1I7eFp06QtEI...       Jaye Miskimmon   \n",
       "96  $2a$04$qwyNlrU6csEVskb2o1XbJeYxsEFkN1UJZl.9fES...         Horton Newns   \n",
       "97  $2a$04$bKjrDfg7i0dv6c9tse1JqOfZJYxney80wpxDvpL...     Kelley Langabeer   \n",
       "98  $2a$04$/xxC9M7ipSfhcKKuC8QV9.EREQzBcknqiNRVDl7...        Addie Weddell   \n",
       "99  $2a$04$.2r79PZnLIIZucHpnQ9l1.TNQtXLF32gnljaQjn...       Culley Curnokk   \n",
       "\n",
       "                           email     phoneNo  \\\n",
       "0       dinniesillitoe@gmail.com  5764485868   \n",
       "1        coriegilhooly@gmail.com  5159571562   \n",
       "2      eunicecoldbathe@gmail.com  8923953535   \n",
       "3   shoshannacollabine@gmail.com  8412788641   \n",
       "4        seumasdraysey@gmail.com  5783547756   \n",
       "..                           ...         ...   \n",
       "95       jayemiskimmon@gmail.com  2411732906   \n",
       "96         hortonnewns@gmail.com  2625339490   \n",
       "97     kelleylangabeer@gmail.com  7233697921   \n",
       "98        addieweddell@gmail.com  2251101538   \n",
       "99       culleycurnokk@gmail.com  6683501230   \n",
       "\n",
       "                                         profileImage            profile  \\\n",
       "0   /9j/4AAQSkZJRgABAQEASABIAAD/2wBDAAMCAgICAgMCAg...              Buyer   \n",
       "1   /9j/4AAQSkZJRgABAQEASABIAAD/4gKgSUNDX1BST0ZJTE...  Real Estate Agent   \n",
       "2   /9j/4AAQSkZJRgABAQEASABIAAD/4gKgSUNDX1BST0ZJTE...       System Admin   \n",
       "3   /9j/4AAQSkZJRgABAQEASABIAAD/4gKgSUNDX1BST0ZJTE...              Buyer   \n",
       "4   /9j/4AAQSkZJRgABAQEASABIAAD/4gKgSUNDX1BST0ZJTE...             Seller   \n",
       "..                                                ...                ...   \n",
       "95  /9j/4AAQSkZJRgABAQEASABIAAD/4gKgSUNDX1BST0ZJTE...              Buyer   \n",
       "96  /9j/4AAQSkZJRgABAQEASABIAAD/4gKgSUNDX1BST0ZJTE...             Seller   \n",
       "97  /9j/4AAQSkZJRgABAQEASABIAAD/4gKgSUNDX1BST0ZJTE...  Real Estate Agent   \n",
       "98  /9j/4AAQSkZJRgABAQEASABIAAD/4gKgSUNDX1BST0ZJTE...  Real Estate Agent   \n",
       "99  /9j/4AAQSkZJRgABAQEASABIAAD/2wBDAAIBAQIBAQICAg...  Real Estate Agent   \n",
       "\n",
       "       status  \n",
       "0      active  \n",
       "1      active  \n",
       "2      active  \n",
       "3      active  \n",
       "4      active  \n",
       "..        ...  \n",
       "95     active  \n",
       "96     active  \n",
       "97     active  \n",
       "98  suspended  \n",
       "99     active  \n",
       "\n",
       "[100 rows x 9 columns]"
      ]
     },
     "execution_count": 11,
     "metadata": {},
     "output_type": "execute_result"
    }
   ],
   "source": [
    "df"
   ]
  },
  {
   "cell_type": "code",
   "execution_count": 12,
   "metadata": {},
   "outputs": [],
   "source": [
    "# Specify the desired column order\n",
    "reordered_columns = ['id', 'profileImage', 'profile', 'fullName', 'username', 'password', 'email', 'phoneNo', 'status'] \n",
    "# Create a new DataFrame with columns arranged in the desired order\n",
    "df_reordered = df[reordered_columns]"
   ]
  },
  {
   "cell_type": "code",
   "execution_count": 13,
   "metadata": {},
   "outputs": [
    {
     "name": "stdout",
     "output_type": "stream",
     "text": [
      "DataFrame exported to UserAccounts.csv\n"
     ]
    }
   ],
   "source": [
    "# Specify the file path\n",
    "csv_file = \"UserAccounts.csv\"\n",
    "\n",
    "# Export DataFrame to CSV\n",
    "df_reordered.to_csv(csv_file, index=False)\n",
    "\n",
    "print(f\"DataFrame exported to {csv_file}\")"
   ]
  }
 ],
 "metadata": {
  "kernelspec": {
   "display_name": "minifyp",
   "language": "python",
   "name": "python3"
  },
  "language_info": {
   "codemirror_mode": {
    "name": "ipython",
    "version": 3
   },
   "file_extension": ".py",
   "mimetype": "text/x-python",
   "name": "python",
   "nbconvert_exporter": "python",
   "pygments_lexer": "ipython3",
   "version": "3.12.3"
  }
 },
 "nbformat": 4,
 "nbformat_minor": 2
}
