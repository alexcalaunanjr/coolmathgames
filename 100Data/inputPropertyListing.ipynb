{
 "cells": [
  {
   "cell_type": "code",
   "execution_count": 1,
   "metadata": {},
   "outputs": [],
   "source": [
    "import pandas as pd\n",
    "import numpy as np"
   ]
  },
  {
   "cell_type": "code",
   "execution_count": 2,
   "metadata": {},
   "outputs": [
    {
     "name": "stdout",
     "output_type": "stream",
     "text": [
      "Index(['id', 'property', 'ownerSeller', 'REA', 'sold', 'viewsCount'], dtype='object')\n"
     ]
    }
   ],
   "source": [
    "df = pd.read_csv('../100Data/PropertyListing.csv')\n",
    "print(df.columns)"
   ]
  },
  {
   "cell_type": "code",
   "execution_count": 3,
   "metadata": {},
   "outputs": [],
   "source": [
    "df.drop(columns=['ignoreseller', 'ignorerea'], inplace=True)\n",
    "df['sold'] = df['sold'].astype(int)"
   ]
  },
  {
   "cell_type": "code",
   "execution_count": 4,
   "metadata": {},
   "outputs": [],
   "source": [
    "def add_4_to_id(input_id):\n",
    "    return input_id + 4\n",
    "\n",
    "df['id'] = df['id'].apply(add_4_to_id)"
   ]
  },
  {
   "cell_type": "code",
   "execution_count": 5,
   "metadata": {},
   "outputs": [
    {
     "name": "stdout",
     "output_type": "stream",
     "text": [
      "DataFrame exported to PropertyListing.csv\n"
     ]
    }
   ],
   "source": [
    "# Specify the file path\n",
    "csv_file = \"PropertyListing.csv\"\n",
    "\n",
    "# Export DataFrame to CSV\n",
    "df.to_csv(csv_file, index=False)\n",
    "\n",
    "print(f\"DataFrame exported to {csv_file}\")"
   ]
  }
 ],
 "metadata": {
  "kernelspec": {
   "display_name": "minifyp",
   "language": "python",
   "name": "python3"
  },
  "language_info": {
   "codemirror_mode": {
    "name": "ipython",
    "version": 3
   },
   "file_extension": ".py",
   "mimetype": "text/x-python",
   "name": "python",
   "nbconvert_exporter": "python",
   "pygments_lexer": "ipython3",
   "version": "3.12.3"
  }
 },
 "nbformat": 4,
 "nbformat_minor": 2
}
